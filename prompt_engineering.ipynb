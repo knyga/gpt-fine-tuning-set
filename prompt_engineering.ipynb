{
 "cells": [
  {
   "cell_type": "code",
   "execution_count": 1,
   "metadata": {},
   "outputs": [],
   "source": [
    "import os\n",
    "import openai\n",
    "import pandas as pd\n",
    "import numpy as np\n",
    "import json\n",
    "import time"
   ]
  },
  {
   "cell_type": "code",
   "execution_count": 8,
   "metadata": {},
   "outputs": [],
   "source": [
    "# You need to set your OpenAI API key as an environment variable\n",
    "# You can find your API key here: https://beta.openai.com/account/api-keys\n",
    "# If you do not have an API key, you can sign up for free here: https://beta.openai.com/signup\n",
    "OPENAI_API_KEY = os.environ[\"OPENAI_API_KEY\"]"
   ]
  },
  {
   "cell_type": "code",
   "execution_count": 2,
   "metadata": {},
   "outputs": [
    {
     "name": "stdout",
     "output_type": "stream",
     "text": [
      "Prompt: I have machine where I can put coins and the next day each coin will disappear and turn into 2 apples.\n",
      "I put 10 coins into the machine and wait for 3 days. What will happen?\n",
      "Solution: After the first day, your 10 coins will turn into 20 apples. \n",
      "After the second day, those 20 apples will turn into 40 apples.\n",
      "After the third day, those 40 apples will turn into 80 apples.\n",
      "\n",
      "So, after 3 days, you will have 80 apples.\n",
      "\n",
      "Prompt: Let's think step by step. I have machine where I can put coins and the next day each coin will disappear and turn into 2 apples.\n",
      "I put 10 coins into the machine and wait for 3 days. What will happen?\n",
      "Solution: Great! Let's work this out step by step.\n",
      "\n",
      "Day 1: \n",
      "\n",
      "- You put 10 coins into the machine.\n",
      "- The next day, each coin will disappear and turn into 2 apples. So you will have 2 x 10 = 20 apples.\n",
      "\n",
      "Day 2: \n",
      "\n",
      "- There are now 20 apples after the first day.\n",
      "- You don't need to put any more coins in because they have already been converted.\n",
      "- The next day, each apple will disappear and turn into 2 apples. So you will have 2 x 20 = 40 apples.\n",
      "\n",
      "Day 3: \n",
      "\n",
      "- There are now 40 apples after the second day.\n",
      "- You don't need to put any more coins in because they have already been converted.\n",
      "- The next day, each apple will disappear and turn into 2 apples. So you will have 2 x 40 = 80 apples.\n",
      "\n",
      "So after 3 days, you will have 80 apples.\n",
      "\n"
     ]
    }
   ],
   "source": [
    "# Define your prompt and enhance it with prompt engineering techniques\n",
    "base_prompt = '''I have machine where I can put coins and the next day each coin will disappear and turn into 2 apples.\n",
    "I put 10 coins into the machine and wait for 3 days. What will happen?'''\n",
    "\n",
    "# Using the \"Let's think step by step\" technique\n",
    "enhanced_prompt = f\"Let's think step by step. {base_prompt}\"\n",
    "\n",
    "# Using the few-shot learning technique with examples\n",
    "few_shot_prompt = f\"\"\"\n",
    "Example 1:\n",
    "Problem: (2 * 4) + 1\n",
    "Solution: 9\n",
    "\n",
    "Example 2:\n",
    "Problem: (6 * 3) - 4\n",
    "Solution: 14\n",
    "\n",
    "Now, solve this problem:\n",
    "Problem: {base_prompt}\n",
    "Solution: \"\"\"\n",
    "\n",
    "\n",
    "for prompt in [base_prompt, enhanced_prompt]:\n",
    "    print(f\"Prompt: {prompt}\")\n",
    "    # Query the GPT-4 model\n",
    "    response = openai.ChatCompletion.create(\n",
    "      model=\"gpt-4\",\n",
    "      messages=[\n",
    "            {\"role\": \"system\", \"content\": \"You are a helpful math assistant.\"},\n",
    "            {\"role\": \"user\", \"content\": prompt},\n",
    "        ]\n",
    "    )\n",
    "\n",
    "    # Extract the solution from the response\n",
    "    solution = response.choices[0].message.content.strip()\n",
    "\n",
    "    # Print the solution\n",
    "    print(f\"Solution: {solution}\")\n",
    "    print()"
   ]
  }
 ],
 "metadata": {
  "kernelspec": {
   "display_name": "Python 3",
   "language": "python",
   "name": "python3"
  },
  "language_info": {
   "codemirror_mode": {
    "name": "ipython",
    "version": 3
   },
   "file_extension": ".py",
   "mimetype": "text/x-python",
   "name": "python",
   "nbconvert_exporter": "python",
   "pygments_lexer": "ipython3",
   "version": "3.10.9"
  },
  "orig_nbformat": 4,
  "vscode": {
   "interpreter": {
    "hash": "bda33b16be7e844498c7c2d368d72665b4f1d165582b9547ed22a0249a29ca2e"
   }
  }
 },
 "nbformat": 4,
 "nbformat_minor": 2
}
