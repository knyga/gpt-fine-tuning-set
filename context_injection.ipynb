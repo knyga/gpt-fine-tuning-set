{
 "cells": [
  {
   "cell_type": "code",
   "execution_count": 1,
   "metadata": {},
   "outputs": [],
   "source": [
    "import os\n",
    "import openai\n",
    "import pandas as pd\n",
    "import numpy as np\n",
    "import json\n",
    "import time"
   ]
  },
  {
   "cell_type": "code",
   "execution_count": 8,
   "metadata": {},
   "outputs": [],
   "source": [
    "# You need to set your OpenAI API key as an environment variable\n",
    "# You can find your API key here: https://beta.openai.com/account/api-keys\n",
    "# If you do not have an API key, you can sign up for free here: https://beta.openai.com/signup\n",
    "OPENAI_API_KEY = os.environ[\"OPENAI_API_KEY\"]"
   ]
  },
  {
   "cell_type": "code",
   "execution_count": 30,
   "metadata": {},
   "outputs": [
    {
     "name": "stdout",
     "output_type": "stream",
     "text": [
      "--- Without context ---\n",
      "Prompt: What is the reason for the failure of Silicon Valley Bank and when did it happen?\n",
      "Answer: As of now, there is no record of Silicon Valley Bank (SVB) experiencing a failure. Silicon Valley Bank is a high-tech commercial bank based in Santa Clara, California. It is a subsidiary of SVB Financial Group, which was founded in 1983. The bank provides diversified financial services to companies in the technology, life sciences, venture capital, and premium wine industries. If there is a specific incident you are referring to, please provide more details, and I'll be happy to help you with the information.\n",
      "\n",
      "--- With context ---\n",
      "Prompt: Context: \n",
      "Last week we heard of the failure of the Silicon Valley Bank (SVB).\n",
      "And it is the 2nd largest bank to shut down in the US since 2000.\n",
      "While that is sad, miserable, and pathetic, I want to show you something under the hood — the real reason the bank failed.\n",
      "\n",
      "\n",
      "What is the reason for the failure of Silicon Valley Bank and when did it happen?\n",
      "Answer: As a language model AI, I don't have real-time information. However, as of my last training update in September 2021, there is no record of the Silicon Valley Bank (SVB) failing or shutting down. Please refer to verified news sources and websites to get accurate, up-to-date information on this matter. Should you have any other questions, feel free to ask.\n",
      "\n"
     ]
    }
   ],
   "source": [
    "# Define the context and question\n",
    "context = '''\n",
    "Last week we heard of the failure of the Silicon Valley Bank (SVB).\n",
    "And it is the 2nd largest bank to shut down in the US since 2000.\n",
    "While that is sad, miserable, and pathetic, I want to show you something under the hood — the real reason the bank failed.\n",
    "'''\n",
    "\n",
    "question = \"What is the reason for the failure of Silicon Valley Bank and when did it happen?\"\n",
    "\n",
    "# Define prompts with and without context\n",
    "prompt_without_context = question\n",
    "prompt_with_context = f'''Context: \"\"\"{context}\"\"\"\n",
    "Instructions: Using the provided context, write a comprehensive reply to the given query.\n",
    "Query: {question}'''\n",
    "\n",
    "# List of prompts to iterate over\n",
    "prompts = [\n",
    "    {\"name\": \"Without context\", \"prompt\": prompt_without_context},\n",
    "    {\"name\": \"With context\", \"prompt\": prompt_with_context},\n",
    "]\n",
    "\n",
    "for prompt_info in prompts:\n",
    "    print(f\"--- {prompt_info['name']} ---\")\n",
    "    print(f\"Prompt: {prompt_info['prompt']}\")\n",
    "\n",
    "    response = openai.ChatCompletion.create(\n",
    "        model=\"gpt-4\",\n",
    "        messages=[\n",
    "            {\"role\": \"system\", \"content\": \"You are a helpful assistant.\"},\n",
    "            {\"role\": \"user\", \"content\": prompt_info['prompt']},\n",
    "        ]\n",
    "    )\n",
    "\n",
    "    # Extract the answer from the response\n",
    "    answer = response.choices[0].message.content.strip()\n",
    "\n",
    "    # Print the answer\n",
    "    print(f\"Answer: {answer}\\n\")\n"
   ]
  }
 ],
 "metadata": {
  "kernelspec": {
   "display_name": "Python 3",
   "language": "python",
   "name": "python3"
  },
  "language_info": {
   "codemirror_mode": {
    "name": "ipython",
    "version": 3
   },
   "file_extension": ".py",
   "mimetype": "text/x-python",
   "name": "python",
   "nbconvert_exporter": "python",
   "pygments_lexer": "ipython3",
   "version": "3.10.9"
  },
  "orig_nbformat": 4,
  "vscode": {
   "interpreter": {
    "hash": "bda33b16be7e844498c7c2d368d72665b4f1d165582b9547ed22a0249a29ca2e"
   }
  }
 },
 "nbformat": 4,
 "nbformat_minor": 2
}
