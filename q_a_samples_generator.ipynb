{
 "cells": [
  {
   "cell_type": "code",
   "execution_count": 23,
   "metadata": {},
   "outputs": [],
   "source": [
    "import openai\n",
    "import os\n",
    "\n",
    "# You need to set your OpenAI API key as an environment variable\n",
    "# You can find your API key here: https://beta.openai.com/account/api-keys\n",
    "# If you do not have an API key, you can sign up for free here: https://beta.openai.com/signup\n",
    "OPENAI_API_KEY = os.environ[\"OPENAI_API_KEY\"]\n",
    "openai.api_key = OPENAI_API_KEY\n",
    "DATASET_PATH=\"./dataset\"\n",
    "TOTAL_QUESTIONS_COUNT = 1\n",
    "# For simplicity. Better to calculate tokens count for each text\n",
    "MAX_CONTENT_LENGTH = 4096*2"
   ]
  },
  {
   "cell_type": "code",
   "execution_count": 24,
   "metadata": {},
   "outputs": [
    {
     "name": "stdout",
     "output_type": "stream",
     "text": [
      "Processing ./dataset/Blog - Next.js 13  Next.js.md\n",
      "[('What are the new features introduced in Next.js 13?', 'Next.js 13 introduced the following new features:\\n- `app` Directory (beta) for easier, faster, and less client JS.\\n- Turbopack (alpha), a rust-based Webpack replacement for up to 700x faster performance.\\n- New `next/image` with native browser lazy loading for faster performance.\\n- New `@next/font` (beta) with automated self-hosted fonts and zero layout shift.\\n- Improved `next/link` with a simplified API and automatic `<a>`.'), ('Is the `app` Directory ready for production use?', 'The `app` Directory is currently in beta and not yet recommended for production use. You can use Next.js 13 with the stable `pages` directory and opt into the `app` directory at your own pace.'), ('What are the benefits of using the `app` Directory?', 'The `app` Directory offers several benefits such as:\\n- Layouts that enable easy sharing of UI between routes while preserving state and avoiding expensive re-renders.\\n- Support for Server Components for the most dynamic applications.\\n- Ability to stream rendered units of the UI to the client.\\n- Component-level data fetching with extended fetch API.'), ('Can existing pages be incrementally adopted into the `app` Directory?', 'Yes, existing pages can be incrementally adopted into the `app` Directory, which allows for nested layouts and colocating application code such as components, tests, and styles with routes.'), ('What is Server Components in Next.js 13?', \"Server Components is a new feature introduced in Next.js 13 that uses React's new architecture to build complex interfaces while reducing the amount of JavaScript sent to the client, enabling faster initial page loads. It provides support for both server and client components, allowing for fast and highly interactive apps using a single programming model.\"), ('How does the extended fetch API work in Next.js 13?', 'The extended fetch API in Next.js 13 automatically dedupes fetch requests and provides one flexible way to fetch, cache, and revalidate data at the component level. This means all the benefits of Static Site Generation (SSG), Server-Side Rendering (SSR), and Incremental Static Regeneration (ISR) are now available through one API.')]\n",
      "Processing ./dataset/Getting started with NextUI and Next.js - LogRocket Blog.md\n",
      "[('What is NextUI?', 'NextUI is a React UI library that provides pre-built sets of functions and components that can be added to and modified in an application. It is created with React and Stitches, based on React Aria, and inspired by Vuesax.'), ('What are the benefits of using NextUI?', 'NextUI is a beautifully designed UI framework with visually appealing component style defaults. It has accessible components and follows the WAI-ARIA standards, offering keyboard support and logical focus management. NextUI is built on top of the CSS-in-JS library Stitches and also provides a simple way to customize the default themes, change the colors, fonts, breakpoints, and more.'), ('How can one set up NextUI and Next.js?', 'To set up NextUI and Next.js, one needs to first follow the steps to build a Next.js app. Then, run the command to install the NextUI package and set up the NextUIProvider at the root of the application in the pages/_app.js file. Next, create a new file pages/_document.js and add the necessary code.'), ('How can one build a SiteHeader using the NextUI Navbar component?', 'To build a SiteHeader using the NextUI Navbar component, one needs to create a new file named ./components/SiteHeader.jsx and import the necessary components such as Avatar, Button, Dropdown, Navbar, and Text. Then, using the NextUI Navbar component, the SiteHeader can be designed and customized with different properties and styles.')]\n",
      "Processing ./dataset/Blog - Next.js 13.1  Next.js.md\n",
      "[('What are the improvements in the `app` directory in Next.js 13.1?', 'Next.js 13.1 includes improvements to the `app` directory such as improved reliability and performance, enhanced layouts, co-location of components, tests, and styles, component-level data fetching, and more. With this new routing and data fetching system, you can incrementally adopt it alongside your existing `pages` directory.'), ('What are the benefits of using the new TypeScript plugin in Next.js 13.1?', 'The new TypeScript plugin in Next.js 13.1 provides suggestions for page and layout configuration options, brings documentation directly into your IDE, and offers helpful usage hints around Server and Client Components. For instance, it prevents the use of `useState` in Server Components.'), ('How is the `modularizeImports` feature improving import resolution?', 'The `modularizeImports` feature in Next.js 13.1 enables the SWC transform which changes your import statements based on a defined pattern. This transformation is possible with the `modularizeImports` option in `next.config.js`. It helps to reduce compile times by skipping compilation of unused files. It also allows skipping parsing/compiling all re-exported files in case of published libraries some npm packages ship barrel files that have thousands of modules re-exported, ensuring faster compile times.'), ('How does the Edge Runtime inside Next.js work?', 'The Edge Runtime inside Next.js uses a strict subset of Node.js APIs that are compatible with Edge computing platforms like Vercel or when self-hosting. These APIs run everywhere, including in the browser, allowing developers to learn them once and write everywhere. It is now stable for API routes allowing it to be more performant on any computing platform.')]\n",
      "Processing ./dataset/Blog - Next.js 13.2  Next.js.md\n",
      "[('What is the new Metadata API in Next.js 13.2?', 'The new Metadata API in Next.js 13.2 allows for defining metadata with explicit metadata configuration in any layout or page that is a Server Component. This allows for support of dynamic metadata as well as static and includes all metadata options, such as custom metadata and open graph images.'), ('What are Route Handlers in Next.js 13.2?', 'Route Handlers in Next.js 13.2 allows for creation of custom request handlers for a given route using the Web Request and Response APIs. They have an isomorphic API to support both Edge and Node.js runtimes seamlessly and support features like Static Rendering and Revalidation. Route Handlers use the same route segment configuration as pages and layouts, and can use server functions and Web APIs, allowing for code to be shared between Server Components and Route Handlers.'), ('How does Next.js 13.2 support MDX for Server Components?', 'With Next.js 13.2, MDX can now be used entirely with React Server Components, allowing for less client-side JavaScript and faster page loads while retaining the powerful capabilities of React for templating dynamic UI. The `@next/mdx` plugin has been updated to support a new special file, `mdx-components.js|ts`, which provides custom components to be used in MDX files. Additionally, community packages like `next-mdx-remote` and `contentlayer` have been updated to add support for React Server Components.')]\n",
      "Processing ./dataset/NextAuth.js for client-side authentication in Next.js  LogRocket Blog.md\n",
      "[('What is NextAuth.js?', 'NextAuth.js is a completely secured authentication solution for implementing authentication in Next.js applications. It is a flexible authentication library designed to sync with any OAuth service, with full support for passwordless sign in. It can be used with or without a database, and it has default support for popular databases such as MySQL, MongoDB, PostgreSQL, and MariaDB. It can be used without a database by syncing with services like OAuth and JSON Web Token.'), ('How does NextAuth.js work?', 'With a library like NextAuth.js, you don’t need to be an expert in identity protocol like you would if you were to use OAuth to build secured Next.js applications. NextAuth.js is built to avoid the need to store sensitive data, such as a users’ password. It works perfectly with Next.js. With just 20 lines of code, you can implement an authentication feature in your app. NextAuth.js has a client-side API you can use to interact with sessions in your app.'), ('What is useSession() in NextAuth.js?', 'NextAuth.js provides the `useSession()` React Hook, which can be used to check the user login status. It returns the session data returned from the Providers, which contains user payload, and this can be displayed to the user upon successful login.'), ('What are the requirements for setting up client-side authentication using NextAuth.js in Next.js?', 'The requirements are Node.js 10.13 or later installed on your local machine and basics of React.js.'), ('How do you set up authentication with NextAuth.js in Next.js?', 'To set up authentication with NextAuth.js, you need to install NextAuth.js by running `npm i next-auth` or `yarn add next-auth`. You also need to create OAuth apps for the authentication providers you want to use such as GitHub, Google, or Facebook. After creating the OAuth app(s), add the client ID and secret keys to the environment variables file `.env.local`.')]\n",
      "Processing ./dataset/Next.js 13 Working with the new app directory - LogRocket Blog.md\n"
     ]
    }
   ],
   "source": [
    "import re\n",
    "\n",
    "def extract_qa_from_content(content):\n",
    "  blocks = re.split(r'\\n\\n', content)\n",
    "  qa = []\n",
    "\n",
    "  for block in blocks:\n",
    "    question_match = re.search(r'Q:(.+)\\n', block)\n",
    "    answer_match = re.search(r'A:(.+)', block, re.DOTALL)\n",
    "    if question_match and answer_match:\n",
    "      question = question_match.group(1).strip()\n",
    "      answer = answer_match.group(1).strip()\n",
    "      qa.append((question, answer))\n",
    "  \n",
    "  return qa\n",
    "\n",
    "def read_file(filename):\n",
    "  with open(filename, \"r\") as f:\n",
    "      content = f.read()\n",
    "  return content\n",
    "\n",
    "def generate_qa(filepath):\n",
    "  article = read_file(filepath)[:MAX_CONTENT_LENGTH]\n",
    "  content = f'''Content for {filepath}:\n",
    "{article}\n",
    "\n",
    "Instructions: Generate question and answer based on Content for {filepath}.\n",
    "Structure it as:\n",
    "Q: <question>\n",
    "A: <answer>\n",
    "'''\n",
    "\n",
    "  questions_answers = []\n",
    "  response = openai.ChatCompletion.create(\n",
    "      model=\"gpt-3.5-turbo\",\n",
    "      messages=[\n",
    "        {\"role\": \"system\", \"content\": \"You are a helpful software developer who specialize in next.js and react.\"},\n",
    "        {\"role\": \"user\", \"content\": content},\n",
    "      ],\n",
    "      n=TOTAL_QUESTIONS_COUNT\n",
    "    )\n",
    "  \n",
    "  for choice in response.choices:\n",
    "    qa = extract_qa_from_content(choice.message.content.strip())\n",
    "    questions_answers.extend(qa)\n",
    "  return questions_answers\n",
    "\n",
    "for filename in os.listdir(DATASET_PATH):\n",
    "  filepath = os.path.join(DATASET_PATH, filename)\n",
    "  print(f\"Processing {filepath}\")\n",
    "  try:\n",
    "    print(generate_qa(filepath))\n",
    "  except Exception as e:\n",
    "    print(f\"Error: {e}\")"
   ]
  }
 ],
 "metadata": {
  "kernelspec": {
   "display_name": "Python 3",
   "language": "python",
   "name": "python3"
  },
  "language_info": {
   "codemirror_mode": {
    "name": "ipython",
    "version": 3
   },
   "file_extension": ".py",
   "mimetype": "text/x-python",
   "name": "python",
   "nbconvert_exporter": "python",
   "pygments_lexer": "ipython3",
   "version": "3.10.9"
  },
  "orig_nbformat": 4
 },
 "nbformat": 4,
 "nbformat_minor": 2
}
